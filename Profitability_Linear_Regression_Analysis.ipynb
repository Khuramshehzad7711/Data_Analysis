{
 "cells": [
  {
   "cell_type": "markdown",
   "id": "f4515ae1-659e-4670-aa24-c523e60acf21",
   "metadata": {},
   "source": [
    "# Profitability Linear Regression Analysis"
   ]
  },
  {
   "cell_type": "code",
   "execution_count": 19,
   "id": "aebd8518-f3a2-4d20-8c71-f2c62d59ba7a",
   "metadata": {},
   "outputs": [
    {
     "name": "stdout",
     "output_type": "stream",
     "text": [
      "Requirement already satisfied: statsmodels in c:\\users\\fine laptop\\appdata\\local\\programs\\python\\python312\\lib\\site-packages (0.14.0)\n",
      "Requirement already satisfied: numpy>=1.18 in c:\\users\\fine laptop\\appdata\\local\\programs\\python\\python312\\lib\\site-packages (from statsmodels) (1.26.2)\n",
      "Requirement already satisfied: scipy!=1.9.2,>=1.4 in c:\\users\\fine laptop\\appdata\\local\\programs\\python\\python312\\lib\\site-packages (from statsmodels) (1.11.3)\n",
      "Requirement already satisfied: pandas>=1.0 in c:\\users\\fine laptop\\appdata\\local\\programs\\python\\python312\\lib\\site-packages (from statsmodels) (2.1.3)\n",
      "Requirement already satisfied: patsy>=0.5.2 in c:\\users\\fine laptop\\appdata\\local\\programs\\python\\python312\\lib\\site-packages (from statsmodels) (0.5.4)\n",
      "Requirement already satisfied: packaging>=21.3 in c:\\users\\fine laptop\\appdata\\local\\programs\\python\\python312\\lib\\site-packages (from statsmodels) (23.2)\n",
      "Requirement already satisfied: python-dateutil>=2.8.2 in c:\\users\\fine laptop\\appdata\\local\\programs\\python\\python312\\lib\\site-packages (from pandas>=1.0->statsmodels) (2.8.2)\n",
      "Requirement already satisfied: pytz>=2020.1 in c:\\users\\fine laptop\\appdata\\local\\programs\\python\\python312\\lib\\site-packages (from pandas>=1.0->statsmodels) (2023.3.post1)\n",
      "Requirement already satisfied: tzdata>=2022.1 in c:\\users\\fine laptop\\appdata\\local\\programs\\python\\python312\\lib\\site-packages (from pandas>=1.0->statsmodels) (2023.3)\n",
      "Requirement already satisfied: six in c:\\users\\fine laptop\\appdata\\local\\programs\\python\\python312\\lib\\site-packages (from patsy>=0.5.2->statsmodels) (1.16.0)\n",
      "Note: you may need to restart the kernel to use updated packages.\n"
     ]
    }
   ],
   "source": [
    "pip install statsmodels"
   ]
  },
  {
   "cell_type": "code",
   "execution_count": 33,
   "id": "77dac407-a13a-4813-8b3f-c92947cfe6f8",
   "metadata": {},
   "outputs": [],
   "source": [
    "import pandas as pd\n",
    "import statsmodels.api as sm"
   ]
  },
  {
   "cell_type": "code",
   "execution_count": 21,
   "id": "b5694ffa-da1e-4058-aade-3f1b5e9582d2",
   "metadata": {},
   "outputs": [],
   "source": [
    "# Reading data from CSV file\n",
    "df = pd.read_csv('profitability_data.csv')"
   ]
  },
  {
   "cell_type": "code",
   "execution_count": 22,
   "id": "bc43d2c6-7208-4695-adf6-711b769547c9",
   "metadata": {},
   "outputs": [
    {
     "name": "stdout",
     "output_type": "stream",
     "text": [
      "                            OLS Regression Results                            \n",
      "==============================================================================\n",
      "Dep. Variable:                Profitt   R-squared:                       0.006\n",
      "Model:                            OLS   Adj. R-squared:                  0.006\n",
      "Method:                 Least Squares   F-statistic:                     8.637\n",
      "Date:                Wed, 06 Dec 2023   Prob (F-statistic):           0.000182\n",
      "Time:                        16:14:14   Log-Likelihood:                -33000.\n",
      "No. Observations:                2657   AIC:                         6.601e+04\n",
      "Df Residuals:                    2654   BIC:                         6.602e+04\n",
      "Df Model:                           2                                         \n",
      "Covariance Type:            nonrobust                                         \n",
      "==============================================================================\n",
      "                 coef    std err          t      P>|t|      [0.025      0.975]\n",
      "------------------------------------------------------------------------------\n",
      "intercept   1.949e+04   3683.965      5.291      0.000    1.23e+04    2.67e+04\n",
      "Bar1          22.1136     46.044      0.480      0.631     -68.172     112.399\n",
      "Bar2        -212.4905     51.162     -4.153      0.000    -312.812    -112.169\n",
      "==============================================================================\n",
      "Omnibus:                     2533.468   Durbin-Watson:                   0.570\n",
      "Prob(Omnibus):                  0.000   Jarque-Bera (JB):           166875.090\n",
      "Skew:                           4.408   Prob(JB):                         0.00\n",
      "Kurtosis:                      40.810   Cond. No.                         257.\n",
      "==============================================================================\n",
      "\n",
      "Notes:\n",
      "[1] Standard Errors assume that the covariance matrix of the errors is correctly specified.\n"
     ]
    }
   ],
   "source": [
    "# Adding a constant term for the intercept\n",
    "df[\"intercept\"] = 1\n",
    "\n",
    "# Define independent variables (X) and the dependent variable (y)\n",
    "X = df[[\"intercept\", \"Bar1 \", \"Bar2\"]]\n",
    "y = df[\"Profitt\"]\n",
    "\n",
    "# Fitting the regression model\n",
    "model = sm.OLS(y, X).fit()\n",
    "\n",
    "# Getting the summary of the regression\n",
    "print(model.summary())"
   ]
  },
  {
   "cell_type": "markdown",
   "id": "a97ec55d-dada-4d7f-82c6-7c1089a61aa3",
   "metadata": {},
   "source": [
    "# Conclusion\n",
    "\n",
    "### There is reason to believe that the independent variables, taken together, have a meaningful relationship with the dependent variable.  But the individual coefficient for \"Bar1\" (22.1136)  is not significant, while the coefficient for \"Bar2\" (-212.4905) is significant. \n",
    "\n",
    "### R-squared is low, meaning that the variables (Bar1 and Bar2) in your model don't do a great job of explaining why profitability changes. Changes in Bar1 and Bar2 can only account for a small part of what's happening with profitability."
   ]
  }
 ],
 "metadata": {
  "kernelspec": {
   "display_name": "Python 3 (ipykernel)",
   "language": "python",
   "name": "python3"
  },
  "language_info": {
   "codemirror_mode": {
    "name": "ipython",
    "version": 3
   },
   "file_extension": ".py",
   "mimetype": "text/x-python",
   "name": "python",
   "nbconvert_exporter": "python",
   "pygments_lexer": "ipython3",
   "version": "3.12.0"
  }
 },
 "nbformat": 4,
 "nbformat_minor": 5
}
