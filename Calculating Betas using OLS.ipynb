{
 "cells": [
  {
   "cell_type": "markdown",
   "id": "1cff9d77-a5c3-46c4-b622-0989f6f3da51",
   "metadata": {},
   "source": [
    "# Calculating Betas Using OLS"
   ]
  },
  {
   "cell_type": "code",
   "execution_count": 16,
   "id": "34e467c8-1844-4bec-b33f-32c7d6e2136c",
   "metadata": {},
   "outputs": [],
   "source": [
    "# Importing required libraries \n",
    "import pandas as pd\n",
    "import numpy as np\n",
    "import statsmodels.api as sm"
   ]
  },
  {
   "cell_type": "code",
   "execution_count": 17,
   "id": "762a329c-db74-4199-a984-19b73e5f0667",
   "metadata": {},
   "outputs": [],
   "source": [
    "# Loading  data into a pandas DataFrame\n",
    "df = pd.read_csv('data_stata_final.csv')"
   ]
  },
  {
   "cell_type": "code",
   "execution_count": 18,
   "id": "8edd1d30-f521-4995-9474-9ae8c7f6b0a1",
   "metadata": {},
   "outputs": [],
   "source": [
    "# Droping all the rows with missing values values as OLS model doesn't with with the data having missing values \n",
    "df = df.dropna()"
   ]
  },
  {
   "cell_type": "code",
   "execution_count": 19,
   "id": "b06b6e12-b7bf-4b8f-a541-941fed304cab",
   "metadata": {},
   "outputs": [
    {
     "name": "stdout",
     "output_type": "stream",
     "text": [
      "Index(['Identifier_(RIC)', 'Code', 'Company_Name', 'Country_of_Headquarters',\n",
      "       'Year', '_Cash_Holdings_', '_EARN*CashHoldings_', '_Earnings_',\n",
      "       '_Size_', '_Leverage_', '_Growth_', '_M/B_Ratio_', '_Delta_FCF_',\n",
      "       '_RET_'],\n",
      "      dtype='object')\n"
     ]
    }
   ],
   "source": [
    "# Replace spaces in column names with underscores\n",
    "df.columns = df.columns.str.replace(' ', '_')\n",
    "\n",
    "# Print the column names to check if they are correct\n",
    "print(df.columns)"
   ]
  },
  {
   "cell_type": "code",
   "execution_count": 20,
   "id": "b4744a5f-feb5-47d4-b521-5e187629f77e",
   "metadata": {},
   "outputs": [],
   "source": [
    "# Defining  the independent and dependent variables:\n",
    "\n",
    "X = df[['_Earnings_', '_Cash_Holdings_', '_EARN*CashHoldings_', '_Size_', '_Leverage_', '_Growth_', '_M/B_Ratio_', '_Delta_FCF_', 'Year']]\n",
    "y = df['_RET_']"
   ]
  },
  {
   "cell_type": "code",
   "execution_count": 22,
   "id": "65896685-2559-4dcd-ac46-a36342269541",
   "metadata": {},
   "outputs": [],
   "source": [
    "# Adding a constant to the independent variables:\n",
    "\n",
    "X = sm.add_constant(X)"
   ]
  },
  {
   "cell_type": "code",
   "execution_count": 23,
   "id": "545b94a1-c2dd-495c-b452-7e58b38f4a01",
   "metadata": {},
   "outputs": [],
   "source": [
    "# Fitting the OLS model:\n",
    "\n",
    "model = sm.OLS(y, X).fit()"
   ]
  },
  {
   "cell_type": "code",
   "execution_count": 15,
   "id": "a019f963-46a9-4c09-ba55-94bc85d6256e",
   "metadata": {},
   "outputs": [
    {
     "name": "stdout",
     "output_type": "stream",
     "text": [
      "                            OLS Regression Results                            \n",
      "==============================================================================\n",
      "Dep. Variable:                  _RET_   R-squared:                       0.030\n",
      "Model:                            OLS   Adj. R-squared:                  0.026\n",
      "Method:                 Least Squares   F-statistic:                     8.543\n",
      "Date:                Thu, 14 Dec 2023   Prob (F-statistic):           1.08e-12\n",
      "Time:                        19:06:25   Log-Likelihood:                -11862.\n",
      "No. Observations:                2534   AIC:                         2.374e+04\n",
      "Df Residuals:                    2524   BIC:                         2.380e+04\n",
      "Df Model:                           9                                         \n",
      "Covariance Type:            nonrobust                                         \n",
      "=======================================================================================\n",
      "                          coef    std err          t      P>|t|      [0.025      0.975]\n",
      "---------------------------------------------------------------------------------------\n",
      "const               -1926.3508    276.539     -6.966      0.000   -2468.618   -1384.084\n",
      "_Earnings_            -16.7099     11.704     -1.428      0.153     -39.660       6.240\n",
      "_Cash_Holdings_        -2.5986      0.885     -2.936      0.003      -4.334      -0.863\n",
      "_EARN*CashHoldings_     2.1773      1.501      1.451      0.147      -0.766       5.120\n",
      "_Size_                  1.2508      0.553      2.264      0.024       0.167       2.334\n",
      "_Leverage_             -4.2808      3.292     -1.300      0.194     -10.737       2.175\n",
      "_Growth_               -2.4017      1.428     -1.682      0.093      -5.202       0.399\n",
      "_M/B_Ratio_            -0.0173      0.050     -0.349      0.727      -0.115       0.080\n",
      "_Delta_FCF_             0.0020      0.010      0.200      0.841      -0.017       0.021\n",
      "Year                    0.9522      0.138      6.920      0.000       0.682       1.222\n",
      "==============================================================================\n",
      "Omnibus:                     1121.017   Durbin-Watson:                   1.487\n",
      "Prob(Omnibus):                  0.000   Jarque-Bera (JB):             9860.931\n",
      "Skew:                          -1.871   Prob(JB):                         0.00\n",
      "Kurtosis:                      11.910   Cond. No.                     1.07e+06\n",
      "==============================================================================\n",
      "\n",
      "Notes:\n",
      "[1] Standard Errors assume that the covariance matrix of the errors is correctly specified.\n",
      "[2] The condition number is large, 1.07e+06. This might indicate that there are\n",
      "strong multicollinearity or other numerical problems.\n"
     ]
    }
   ],
   "source": [
    "# Printting the regression results:\n",
    "\n",
    "print(model.summary())"
   ]
  }
 ],
 "metadata": {
  "kernelspec": {
   "display_name": "Python 3 (ipykernel)",
   "language": "python",
   "name": "python3"
  },
  "language_info": {
   "codemirror_mode": {
    "name": "ipython",
    "version": 3
   },
   "file_extension": ".py",
   "mimetype": "text/x-python",
   "name": "python",
   "nbconvert_exporter": "python",
   "pygments_lexer": "ipython3",
   "version": "3.12.0"
  }
 },
 "nbformat": 4,
 "nbformat_minor": 5
}
